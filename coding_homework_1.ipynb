{
  "nbformat": 4,
  "nbformat_minor": 0,
  "metadata": {
    "colab": {
      "provenance": [],
      "include_colab_link": true
    },
    "kernelspec": {
      "name": "python3",
      "display_name": "Python 3"
    },
    "language_info": {
      "name": "python"
    }
  },
  "cells": [
    {
      "cell_type": "markdown",
      "metadata": {
        "id": "view-in-github",
        "colab_type": "text"
      },
      "source": [
        "<a href=\"https://colab.research.google.com/github/FinLZ/NEUR265_Zakas/blob/main/coding_homework_1.ipynb\" target=\"_parent\"><img src=\"https://colab.research.google.com/assets/colab-badge.svg\" alt=\"Open In Colab\"/></a>"
      ]
    },
    {
      "cell_type": "markdown",
      "source": [
        "# Coding Homework #1\n",
        "\n",
        "**Instructions** (Note: it is very important you follow these instructions in order!)\n",
        "\n",
        "1. Run the first *Code Cell* below.\n",
        "\n",
        "2. Make a *Markdown Cell* that contains the following information:\n",
        "  * Your name (small header)\n",
        "  * The name of this class (italicized)\n",
        "  * The date (bolded)\n",
        "\n",
        "3. **Important!**: For each *Code Cell* that you create, make at least one line of code with a `#` in front of it that describes what your code does.\n",
        "\n",
        "4. Make a *Code Cell* that turns `v_rest1.csv` into a `Pandas DataFrame` called `pandas_data1`, and `v_rest2.csv` into a `Pandas DataFrame` called `pandas_data2`. Recall that we covered how to import `.csv` files as `Pandas DataFrames` in our in-class coding activity on January 30th. \n",
        "\n",
        "5. Make a *Code Cell* that converts `pandas_data1` into a `list` variable called `data1`, and converts `pandas_data2` into a `list` variable called `data2`. The following syntax is an example of how to do this:\n",
        "\n",
        "\n",
        "```\n",
        "data1 = pandas_data1.values.tolist()\n",
        "```\n",
        "\n",
        "6. When you convert a `Pandas DataFrame` into a `list`, it brackets each individual element - we don't want that! To get around this issue, make a *Code Cell* that flattens `data1` and `data2` using the `numpy.squeeze()` function. Your first *Code Cell* imported the `NumPy` module as `np`, so we can use the following code to flatten `data1`:\n",
        "\n",
        "\n",
        "```\n",
        "data1 = np.squeeze(data1)\n",
        "```\n",
        "&nbsp;&nbsp;&nbsp;&nbsp;&nbsp;&nbsp;&nbsp;&nbsp;&nbsp;&nbsp;Repeat this for `data2`.\n",
        "\n",
        "7. Make a *Code Cell* that prints the length of `data1`.\n",
        "\n",
        "8. Make a *Code Cell* that prints the 5th, 6th, 7th, and 8th elements of `data2`.\n",
        "\n",
        "9. Make a *Code Cell* that prints the second-to-last and last elements of `data1` (use negative indexing).\n",
        "\n",
        "10. Make a *Code Cell* that prints the `type` of `data2` by using the `type` function.\n",
        "\n",
        "11. The first *Code Cell* you ran imports a module called `matplotlib`. In a new *Code Cell*, use `matplotlib` to make a histogram of `data1`. You can use the syntax `plt.hist()` to do this (remember that the variable you are applying the function to goes inside of the parentheses). \n",
        "\n",
        "12. In a new *Code Cell*, re-make your histogram and use the `plt.xlabel()` and `plt.ylabel()` functions to label your axes.\n",
        "\n",
        "13. In a new *Code Cell*, follow the instructions in steps 11 and 12 to make another histogram with axis labels for `data2`. \n",
        "\n",
        "14. In a new *Markdown Cell*, write a brief description of any differences that you observe between your two histograms. Does one group of cells seem to have a higher/lower resting membrane potential than the other group of cells?\n",
        "\n",
        "15. In a new *Code Cell*, create a new variable called `data3`. Let `data3` be a list containing both `data1` and `data2`. \n",
        "\n",
        "16. Make a *Code Cell* that prints the last element of `data2`. You must index `data3` to do this (hint: we covered this in our in-class coding activity on February 1st).\n",
        "\n",
        "17. Save a copy of this notebook to your GitHub repo with the title \"coding_homework_1.pynb\". "
      ],
      "metadata": {
        "id": "R8xCV2iP1KZ_"
      }
    },
    {
      "cell_type": "code",
      "source": [
        "# Import matplotlib, pandas, and numpy\n",
        "\n",
        "from matplotlib import pyplot as plt\n",
        "\n",
        "import pandas as pd\n",
        "\n",
        "import numpy as np"
      ],
      "metadata": {
        "id": "48IPWJIt59-Y"
      },
      "execution_count": 1,
      "outputs": []
    },
    {
      "cell_type": "markdown",
      "source": [
        "### Fin Zakas\n",
        "\n",
        "***NEUR 265 - Intro to Neural Data Analysis***\n",
        "\n",
        "**2/7/2023**"
      ],
      "metadata": {
        "id": "M-PaFz83gFAq"
      }
    },
    {
      "cell_type": "code",
      "source": [
        "#Create pandas dataframes for v_rest1 and v_rest2\n",
        "pandas_data1 = pd.read_csv('https://raw.githubusercontent.com/FinLZ/NEUR265_Zakas/main/vrest_1.csv')\n",
        "pandas_data2 = pd.read_csv('https://raw.githubusercontent.com/FinLZ/NEUR265_Zakas/main/vrest_2.csv')"
      ],
      "metadata": {
        "id": "X1imaJAOglx_"
      },
      "execution_count": 2,
      "outputs": []
    },
    {
      "cell_type": "code",
      "source": [
        "#Turn pandas_data1 and _data2 into lists\n",
        "data1 = pandas_data1.values.tolist()\n",
        "data2 = pandas_data2.values.tolist()"
      ],
      "metadata": {
        "id": "OFNZx9MKhun1"
      },
      "execution_count": 3,
      "outputs": []
    },
    {
      "cell_type": "code",
      "source": [
        "#Flatten data1 and data2 using numpy\n",
        "data1 = np.squeeze(data1)\n",
        "data2 = np.squeeze(data2)"
      ],
      "metadata": {
        "id": "wk1JJ3uYiUIB"
      },
      "execution_count": 4,
      "outputs": []
    },
    {
      "cell_type": "code",
      "source": [
        "#Print length of data1\n",
        "print(data1.size)"
      ],
      "metadata": {
        "id": "ewBXQCJOirOB",
        "outputId": "bf1ee82d-ed9f-46e8-db0f-afec2ee8518b",
        "colab": {
          "base_uri": "https://localhost:8080/"
        }
      },
      "execution_count": 5,
      "outputs": [
        {
          "output_type": "stream",
          "name": "stdout",
          "text": [
            "12\n"
          ]
        }
      ]
    },
    {
      "cell_type": "code",
      "source": [
        "#Print 5, 6, 7, 8th elements of data2\n",
        "print(data2[4:8])"
      ],
      "metadata": {
        "id": "4960bgL9jJnl",
        "outputId": "df46698f-cd11-4e62-edcb-1946e67401e6",
        "colab": {
          "base_uri": "https://localhost:8080/"
        }
      },
      "execution_count": 6,
      "outputs": [
        {
          "output_type": "stream",
          "name": "stdout",
          "text": [
            "[-68.45462206 -71.42319584 -67.90058729 -70.72731323]\n"
          ]
        }
      ]
    },
    {
      "cell_type": "code",
      "source": [
        "#Print second-to-last and last elements of data1\n",
        "print(data1[-2])\n",
        "print(data1[-1])\n",
        "print(data1[-2:])"
      ],
      "metadata": {
        "id": "2dlXPBEEjoU_",
        "outputId": "365079f9-2ded-4aa7-c83d-da4d93a191b6",
        "colab": {
          "base_uri": "https://localhost:8080/"
        }
      },
      "execution_count": 7,
      "outputs": [
        {
          "output_type": "stream",
          "name": "stdout",
          "text": [
            "-76.83796978\n",
            "-77.47260208\n",
            "[-76.83796978 -77.47260208]\n"
          ]
        }
      ]
    },
    {
      "cell_type": "code",
      "source": [
        "#Print type of data2\n",
        "print(type(data2))"
      ],
      "metadata": {
        "id": "rUhLoYUoj5pb",
        "outputId": "3892168b-c7f3-4ed7-99c8-c277bd4a3003",
        "colab": {
          "base_uri": "https://localhost:8080/"
        }
      },
      "execution_count": 8,
      "outputs": [
        {
          "output_type": "stream",
          "name": "stdout",
          "text": [
            "<class 'numpy.ndarray'>\n"
          ]
        }
      ]
    },
    {
      "cell_type": "code",
      "source": [
        "#Create a basic histogram of data1\n",
        "plt.hist(data1)"
      ],
      "metadata": {
        "id": "SRtefc2xj8xM",
        "outputId": "615e2902-8b70-4083-b0e0-4c5b1cde05b2",
        "colab": {
          "base_uri": "https://localhost:8080/",
          "height": 350
        }
      },
      "execution_count": 9,
      "outputs": [
        {
          "output_type": "execute_result",
          "data": {
            "text/plain": [
              "(array([4., 0., 1., 1., 1., 1., 1., 0., 2., 1.]),\n",
              " array([-77.47260208, -75.92612032, -74.37963857, -72.83315681,\n",
              "        -71.28667506, -69.74019331, -68.19371155, -66.6472298 ,\n",
              "        -65.10074804, -63.55426629, -62.00778453]),\n",
              " <a list of 10 Patch objects>)"
            ]
          },
          "metadata": {},
          "execution_count": 9
        },
        {
          "output_type": "display_data",
          "data": {
            "text/plain": [
              "<Figure size 432x288 with 1 Axes>"
            ],
            "image/png": "[encoded data removed]"
          },
          "metadata": {
            "needs_background": "light"
          }
        }
      ]
    },
    {
      "cell_type": "code",
      "source": [
        "#Recreate histogram with x and y labels\n",
        "plt.hist(data1)\n",
        "plt.xlabel('Resting Voltage')\n",
        "plt.ylabel('Cell Frequency')"
      ],
      "metadata": {
        "id": "FH5rF2InkiRL",
        "outputId": "60dcbe22-f449-4097-840b-1dcca6c7ae2d",
        "colab": {
          "base_uri": "https://localhost:8080/",
          "height": 296
        }
      },
      "execution_count": 10,
      "outputs": [
        {
          "output_type": "execute_result",
          "data": {
            "text/plain": [
              "Text(0, 0.5, 'Cell Frequency')"
            ]
          },
          "metadata": {},
          "execution_count": 10
        },
        {
          "output_type": "display_data",
          "data": {
            "text/plain": [
              "<Figure size 432x288 with 1 Axes>"
            ],
            "image/png": "[encoded data removed]"
          },
          "metadata": {
            "needs_background": "light"
          }
        }
      ]
    },
    {
      "cell_type": "code",
      "source": [
        "#Histogram with x and y labels for data2\n",
        "plt.hist(data2)\n",
        "plt.xlabel('Resting Voltage')\n",
        "plt.ylabel('Cell Frequency')"
      ],
      "metadata": {
        "id": "LJTBcDD1lKZe",
        "outputId": "46d14ba7-7832-4d19-d0bc-e8a258c608f7",
        "colab": {
          "base_uri": "https://localhost:8080/",
          "height": 296
        }
      },
      "execution_count": 11,
      "outputs": [
        {
          "output_type": "execute_result",
          "data": {
            "text/plain": [
              "Text(0, 0.5, 'Cell Frequency')"
            ]
          },
          "metadata": {},
          "execution_count": 11
        },
        {
          "output_type": "display_data",
          "data": {
            "text/plain": [
              "<Figure size 432x288 with 1 Axes>"
            ],
            "image/png": "[encoded data removed]"
          },
          "metadata": {
            "needs_background": "light"
          }
        }
      ]
    },
    {
      "cell_type": "markdown",
      "source": [
        "Does one histogram seem to have a higher or lower resting membrane potential than the other?"
      ],
      "metadata": {
        "id": "_BT7Y8UglX08"
      }
    },
    {
      "cell_type": "code",
      "source": [
        "#create a variable data3 which is data1 and data2 combined\n",
        "data3 = [data1,data2]"
      ],
      "metadata": {
        "id": "da9528y7lpB0"
      },
      "execution_count": 12,
      "outputs": []
    },
    {
      "cell_type": "code",
      "source": [
        "#Print the last element of data3 by indexing data2\n",
        "print(data3[1][-1])"
      ],
      "metadata": {
        "id": "7tEp4j2FmAWl",
        "outputId": "9047fa29-5d5f-4b5b-d35b-5f5705cb71ec",
        "colab": {
          "base_uri": "https://localhost:8080/"
        }
      },
      "execution_count": 13,
      "outputs": [
        {
          "output_type": "stream",
          "name": "stdout",
          "text": [
            "-66.50799408\n"
          ]
        }
      ]
    }
  ]
}