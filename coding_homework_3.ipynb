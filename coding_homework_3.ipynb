{
  "nbformat": 4,
  "nbformat_minor": 0,
  "metadata": {
    "colab": {
      "provenance": [],
      "include_colab_link": true
    },
    "kernelspec": {
      "name": "python3",
      "display_name": "Python 3"
    },
    "language_info": {
      "name": "python"
    }
  },
  "cells": [
    {
      "cell_type": "markdown",
      "metadata": {
        "id": "view-in-github",
        "colab_type": "text"
      },
      "source": [
        "<a href=\"https://colab.research.google.com/github/FinLZ/NEUR265_Zakas/blob/main/coding_homework_3.ipynb\" target=\"_parent\"><img src=\"https://colab.research.google.com/assets/colab-badge.svg\" alt=\"Open In Colab\"/></a>"
      ]
    },
    {
      "cell_type": "markdown",
      "source": [
        "# Coding Homework #3\n",
        "\n",
        "**Instructions**\n",
        "\n",
        "1. Make a *Markdown Cell* that contains the following information:\n",
        "- Your name (small header)\n",
        "- The name of this class (italicized)\n",
        "- The date (bolded)\n",
        "\n",
        "2. Make a *Code Cell* that imports <code>numpy</code> as <code>np</code>, <code>matplotlib.pyplot</code> as <code>plt</code>, and <code>scipy.stats</code> as <code>stats</code>.\n",
        "\n",
        "3. Make a *Code Cell* that imports your <code>v_rest1.csv</code> and <code>v_rest2.csv</code> variables as <code>numpy</code> arrays called <code>v_rest1</code> and <code>v_rest2</code> respectively.\n",
        "\n",
        "4. Make a *Code Cell* that does the following:\n",
        "  \n",
        "  a. Finds the means of <code>v_rest1</code> and <code>v_rest2</code>.\n",
        "  \n",
        "  b. Performs a t-test to test the null hypothesis that the means of <code>v_rest1</code> and <code>v_rest2</code> come from different distributions.\n",
        "\n",
        "  c. Plots a histogram of <code>v_rest1</code> in one subplot, and a histogram of <code>v_rest2</code> in another subplot if the p-value of the t-test is > 0.05. You can make two subplots using the syntax <code>fig, ax = plt.subplots(1,1)</code>.\n",
        "\n",
        "  d. Labels the y-axis and x-axis of your histograms (recall that <code>ax.ylabel</code> and <code>ax.xlabel</code> are the methods that let you accomplish this).\n",
        "\n",
        "5. Make a *Code Cell* that defines a function called <code>vrestHist()</code>. This function should execute the code in step 4 when called. Remember to tell python that you want the function to show your plots when you call it!\n",
        "\n",
        "6. Make a *Code Cell* that calls <code>vrestHist()</code>.\n",
        "\n",
        "7. Make a *Code Cell* that does the following:\n",
        "\n",
        "    a. Loops through each column of <code>v_rest1</code> and <code>v_rest2</code> and makes a scatter plot with <code>v_rest1</code> on the x-axis and <code>v_rest2</code> on the y-axis. \n",
        "\n",
        "    b. Each iteration of your loop should plot a different point on the scatter plot. At the end of your loop, you should have only one scatter plot with number of data points equal to the length of <code>v_rest1</code> and <code>v_rest2</code>.\n",
        "\n",
        "    c. Your loop should plot a <font color = 'red'>red</font> dot if *both* values in <code>v_rest1</code> and <code>v_rest2</code> are greater than -60, a <font color = 'green'>green</font> dot if values in <code>v_rest1</code> are greater than -60, but values in <code>v_rest2</code> are less than -60, and a <font color = 'blue'>blue</font> dot if *both* values in <code>v_rest1</code> and <code>v_rest2</code> are less than -60. \n",
        "\n",
        "    d. Labels your y-axis and your x-axis (this code should be outside of your loop).\n",
        "\n",
        "8. Make a *Code Cell* that defines a function called <code>vrestScatter()</code>. This function should execute the code in step 7 when called. Remember to tell python that you want the function to show your plot when you call it!\n",
        "\n",
        "9. Save a copy of this notebook to your GitHub repo with the title \"coding_homework_3.ipynb\"."
      ],
      "metadata": {
        "id": "zbzMCJlMN3ph"
      }
    },
    {
      "cell_type": "markdown",
      "source": [
        "### Fin Zakas\n",
        "*NEUR 265: Intro to Neural Data Analysis*\n",
        "\n",
        "__3/2/2023__"
      ],
      "metadata": {
        "id": "aBM8rR4B6C2y"
      }
    },
    {
      "cell_type": "code",
      "source": [
        "#import numpy, matplotlib.pyplot, and scipy.stats\n",
        "import numpy as np\n",
        "import matplotlib.pyplot as plt\n",
        "import scipy.stats as stats"
      ],
      "metadata": {
        "id": "021UsjvW6OBS"
      },
      "execution_count": 2,
      "outputs": []
    },
    {
      "cell_type": "code",
      "source": [
        "#import v_rest1 and v_rest2 as numpy arrays called v_rest1 and v_rest2\n",
        "v_rest1 = np.loadtxt(\"https://raw.githubusercontent.com/FinLZ/NEUR265_Zakas/main/vrest_1.csv\")\n",
        "v_rest2 = np.loadtxt(\"https://raw.githubusercontent.com/FinLZ/NEUR265_Zakas/main/vrest_2.csv\")"
      ],
      "metadata": {
        "id": "jkl4TSFg6bXd"
      },
      "execution_count": 3,
      "outputs": []
    },
    {
      "cell_type": "code",
      "source": [
        "#Find means of v_rest1 and 2. Perform t-test on v_rest1 2. Create a histogram of v_rest1 and a histogram of v_rest2 if p > 0.5. Label subplots\n",
        "print(v_rest1.mean())\n",
        "print(v_rest2.mean())\n",
        "\n",
        "stat, p = stats.ttest_ind(v_rest1,v_rest2)\n",
        "if p > .05:\n",
        "  fig, ax = plt.subplots(1,2, figsize = (10,5)) \n",
        "  ax[0].hist(v_rest1)\n",
        "  ax[0].set_ylabel('# of cells')\n",
        "  ax[0].set_xlabel('Resting Membrane Potential') \n",
        "  ax[1].hist(v_rest2)\n",
        "  ax[1].set_ylabel('# of cells')\n",
        "  ax[1].set_xlabel('Resting Membrane Potential')\n",
        "  plt.show()"
      ],
      "metadata": {
        "id": "LlR1MJKo6txv",
        "outputId": "ba27bf3e-1d6e-44d2-88ae-def381d2a4a4",
        "colab": {
          "base_uri": "https://localhost:8080/",
          "height": 368
        }
      },
      "execution_count": 20,
      "outputs": [
        {
          "output_type": "stream",
          "name": "stdout",
          "text": [
            "-71.70826754846154\n",
            "-69.00697070999999\n"
          ]
        },
        {
          "output_type": "display_data",
          "data": {
            "text/plain": [
              "<Figure size 720x360 with 2 Axes>"
            ],
            "image/png": "[encoded data removed]"
          },
          "metadata": {
            "needs_background": "light"
          }
        }
      ]
    },
    {
      "cell_type": "code",
      "source": [
        "#make a function called vrestHist() which executes the code from step 4\n",
        "def vrestHist():\n",
        "  print(v_rest1.mean(), '\\n', v_rest2.mean())\n",
        "  stat, p = stats.ttest_ind(v_rest1,v_rest2)\n",
        "  if p > .05:\n",
        "    fig, ax = plt.subplots(1,2, figsize = (10,5))\n",
        "    ax[0].hist(v_rest1)\n",
        "    ax[0].set_ylabel('# of cells')\n",
        "    ax[0].set_xlabel('Resting Membrane Potential') \n",
        "    ax[1].hist(v_rest2)\n",
        "    ax[1].set_ylabel('# of cells')\n",
        "    ax[1].set_xlabel('Resting Membrane Potential')\n",
        "  plt.show()"
      ],
      "metadata": {
        "id": "ReccU4StFosn"
      },
      "execution_count": 21,
      "outputs": []
    },
    {
      "cell_type": "code",
      "source": [
        "#Code cell that calls vrestHist()\n",
        "vrestHist()"
      ],
      "metadata": {
        "id": "Jz4z6dbwGqxk",
        "outputId": "60c6b0c5-6c32-4d5b-95f3-bb448371c8fa",
        "colab": {
          "base_uri": "https://localhost:8080/",
          "height": 368
        }
      },
      "execution_count": 22,
      "outputs": [
        {
          "output_type": "stream",
          "name": "stdout",
          "text": [
            "-71.70826754846154 \n",
            " -69.00697070999999\n"
          ]
        },
        {
          "output_type": "display_data",
          "data": {
            "text/plain": [
              "<Figure size 720x360 with 2 Axes>"
            ],
            "image/png": "[encoded data removed]"
          },
          "metadata": {
            "needs_background": "light"
          }
        }
      ]
    },
    {
      "cell_type": "code",
      "source": [
        "#Loop through v_rest1 and v_rest2 and make a scatterplot with v_rest1 on the x-axis and v_rest2 on the y-axis; color code dots based on dots being < or > -60\n",
        "\n",
        "for x in range(len(v_rest1)):\n",
        "  if v_rest1[x] > -60 and v_rest2[x] > -60:\n",
        "    plt.scatter(v_rest1[x],v_rest2[x], color = 'red')\n",
        "  elif v_rest1[x] > -60 and v_rest2[x] < -60:\n",
        "    plt.scatter(v_rest1[x],v_rest2[x], color = 'green')\n",
        "  elif v_rest1[x] < -60 and v_rest2[x] < -60:\n",
        "    plt.scatter(v_rest1[x],v_rest2[x], color = 'blue')\n",
        "plt.xlabel('v_rest1')\n",
        "plt.ylabel('v_rest2')\n",
        "plt.show()"
      ],
      "metadata": {
        "id": "83TpcGnSHHRC",
        "outputId": "0466c538-0b93-4229-aaa5-fb5132416f82",
        "colab": {
          "base_uri": "https://localhost:8080/",
          "height": 280
        }
      },
      "execution_count": 15,
      "outputs": [
        {
          "output_type": "display_data",
          "data": {
            "text/plain": [
              "<Figure size 432x288 with 1 Axes>"
            ],
            "image/png": "[encoded data removed]"
          },
          "metadata": {
            "needs_background": "light"
          }
        }
      ]
    },
    {
      "cell_type": "code",
      "source": [
        "#Crate a function called vrestScatter() which executes the above code (step 7) when called\n",
        "def vrestScatter():\n",
        "  for x in range(len(v_rest1)):\n",
        "    if v_rest1[x] > -60 and v_rest2[x] > -60:\n",
        "      plt.scatter(v_rest1[x],v_rest2[x], color = 'red')\n",
        "    elif v_rest1[x] > -60 and v_rest2[x] < -60:\n",
        "      plt.scatter(v_rest1[x],v_rest2[x], color = 'green')\n",
        "    elif v_rest1[x] < -60 and v_rest2[x] < -60:\n",
        "      plt.scatter(v_rest1[x],v_rest2[x], color = 'blue')\n",
        "  plt.xlabel('v_rest1')\n",
        "  plt.ylabel('v_rest2')\n",
        "  plt.show()"
      ],
      "metadata": {
        "id": "TvKYrMZdq3jY"
      },
      "execution_count": 18,
      "outputs": []
    }
  ]
}