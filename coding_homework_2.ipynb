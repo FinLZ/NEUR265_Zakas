{
  "nbformat": 4,
  "nbformat_minor": 0,
  "metadata": {
    "colab": {
      "provenance": [],
      "include_colab_link": true
    },
    "kernelspec": {
      "name": "python3",
      "display_name": "Python 3"
    },
    "language_info": {
      "name": "python"
    }
  },
  "cells": [
    {
      "cell_type": "markdown",
      "metadata": {
        "id": "view-in-github",
        "colab_type": "text"
      },
      "source": [
        "<a href=\"https://colab.research.google.com/github/FinLZ/NEUR265_Zakas/blob/main/coding_homework_2.ipynb\" target=\"_parent\"><img src=\"https://colab.research.google.com/assets/colab-badge.svg\" alt=\"Open In Colab\"/></a>"
      ]
    },
    {
      "cell_type": "markdown",
      "source": [
        "# Coding Homework #2\n",
        "\n",
        "**Instructions:**\n",
        "\n",
        "1. Make a *Markdown Cell* that contains the following information:\n",
        "- Your name (small header)\n",
        "- The name of this class (italicized)\n",
        "- The date (bolded)\n",
        "\n",
        "2. Make a *Code Cell* that imports <code>numpy</code> as <code>np</code>, <code>matplotlib.pyplot</code> as <code>plt</code>, <code>statistics</code> as <code>st</code>.\n",
        "\n",
        "3. Make a *Code Cell* that imports your <code>v_rest1.csv</code> and <code>v_rest2.csv</code> files as <code>numpy</code> arrays called <code>v_rest1</code> and <code>v_rest2</code> respectively. You're used to doing this with the <code>pd.read_csv</code> function for <code>pandas</code>, but can accomplish the same thing using the <code>np.loadtxt</code> function for <code>numpy</code>.\n",
        "\n",
        "4. Make a *Code Cell* that concatenates <code>v_rest1</code> and <code>v_rest2</code> into a matrix with 2 rows and 13 columns named <code>v_rest</code>.\n",
        "\n",
        "5. Make a *Code Cell* that prints the <code>size</code> of <code>v_rest</code>.\n",
        "\n",
        "6. Make a *Code Cell* that returns the first row of <code>v_rest</code>.\n",
        "\n",
        "7. Make a *Code Cell* that returns the sum of the values in the third column of <code>v_rest</code>. You can accomplish this by using <code>v_rest[].sum()</code>, with your index inside of the brackets. As an example, if I wanted to return the sum of the first row of <code>v_rest</code>, I could use <code>v_rest[0].sum()</code> to get my answer.\n",
        "\n",
        "8. Make a *Code Cell* that returns the second-to-last value in the second row of <code>v_rest</code> (use negative indexing for the column value).\n",
        "\n",
        "9. Create a *Code Cell* that makes a histogram of the values in the first row of <code>v_rest</code> (you can do this by using the <code>plt.hist()</code> function). Label your axes.\n",
        "\n",
        "10. Create a *Code Cell* that takes the mean of the values in the first row of <code>v_rest</code>, and assigns the mean to a variable called <code>v_rest_mean_1</code>. Do the same thing for the second row of <code>v_rest</code>, and assign the mean value of the second row to a variable called <code>v_rest_mean_2</code>. You can get the means by using the <code>st.mean()</code> function (remember to put what you want the mean *of* inside the parentheses of the function).\n",
        "\n",
        "11. Create a *Markdown Cell* that describes the difference in means between the two rows. Which one is bigger?\n",
        "\n",
        "12. How can we test whether the difference in means is *meaningful* (statistically significant)? When we're comparing two means, we can use a t-test (assuming the data are normally distributed). To use a t-test on our data, we will first need to import the <code>scipy</code> package. Create a new *Code Cell* that runs the following:\n",
        "\n",
        "<code>\n",
        "import scipy.stats as stats\n",
        "</code>\n",
        "\n",
        "13. Now, we can perform a t-test on the two rows of <code>v_rest</code>. To do this, create a new *Code Cell* that uses the <code>stats.ttest_ind()</code> function - for example:\n",
        "\n",
        "<code>\n",
        "stats.ttest_ind(row1, row2)\n",
        "</code>\n",
        "\n",
        "Replace <code>row1</code> and <code>row2</code> in this case with the first and second rows, respectively, of <code>v_rest</code>.\n",
        "\n",
        "14. Make a *Markdown Cell* that describes the results of your t-test. You should have <code>statistic</code> variable and a <code>pvalue</code> variable. The way to interpret your p-value is as a probability - specifically, the probability that the mean of one distribution could be found in the second distribution. Typically, results are considered to be \"statistically significant\" if the probability is lower than 5% - or 0.05. What is your p-value? Based on this p-value, do you think it is likely that the means are significantly different, or do you think it is likely that they are not?\n",
        "\n",
        "15. Make sure to add at least one line with a <code>#</code> in front of it to each *Code Cell* to describe what each cell does.\n",
        "\n",
        "16. Save a copy of this notebook to your GitHub repo with the title \"coding_homework_2.ipynb\"."
      ],
      "metadata": {
        "id": "CXEcCBSA_prs"
      }
    },
    {
      "cell_type": "markdown",
      "source": [
        "### Fin Zakas\n",
        "*NEUR 265: Intro to Neural Data Analysis*\n",
        "\n",
        "__2/21/2023__"
      ],
      "metadata": {
        "id": "T7tZj8K0Gj8V"
      }
    },
    {
      "cell_type": "code",
      "source": [
        "#Make a code cell that imports numpy as np, matplotlib.pyplot as plt, statistics as st\n",
        "import numpy as np\n",
        "import matplotlib.pyplot as plt\n",
        "import statistics as st"
      ],
      "metadata": {
        "id": "YXAHf3ZkG2b4"
      },
      "execution_count": 1,
      "outputs": []
    },
    {
      "cell_type": "code",
      "source": [
        "#Import v_rest1 and v_rest2 as numpy arrays called v_rest1 and v_rest2\n",
        "v_rest1 = np.loadtxt(\"https://raw.githubusercontent.com/FinLZ/NEUR265_Zakas/main/vrest_1.csv\")\n",
        "v_rest2 = np.loadtxt(\"https://raw.githubusercontent.com/FinLZ/NEUR265_Zakas/main/vrest_2.csv\")\n"
      ],
      "metadata": {
        "id": "LU2CZMDeHItD"
      },
      "execution_count": 9,
      "outputs": []
    },
    {
      "cell_type": "code",
      "source": [
        "#Concatenate v_rest1 and v_rest2 into a matrix with 2 rows and 13 columns named v_rest\n",
        "v_rest = np.vstack((v_rest1,v_rest2))"
      ],
      "metadata": {
        "id": "zC0N9oUWHnWc"
      },
      "execution_count": 55,
      "outputs": []
    },
    {
      "cell_type": "code",
      "source": [
        "#Print the size of v_rest\n",
        "print(v_rest.shape)"
      ],
      "metadata": {
        "id": "q6qvIEpvIv9a",
        "outputId": "115a8a63-a227-4b2a-af35-8bdfaedcb7ca",
        "colab": {
          "base_uri": "https://localhost:8080/"
        }
      },
      "execution_count": 46,
      "outputs": [
        {
          "output_type": "stream",
          "name": "stdout",
          "text": [
            "(2, 13)\n"
          ]
        }
      ]
    },
    {
      "cell_type": "code",
      "source": [
        "#Return the first row of v_rest\n",
        "v_rest[0]"
      ],
      "metadata": {
        "id": "I1tZM__NKXx4",
        "outputId": "a0d94aec-ee57-4582-d0a3-99163befc6e5",
        "colab": {
          "base_uri": "https://localhost:8080/"
        }
      },
      "execution_count": 47,
      "outputs": [
        {
          "output_type": "execute_result",
          "data": {
            "text/plain": [
              "array([-79.4991116 , -74.03615316, -69.19794159, -67.37061024,\n",
              "       -64.80824831, -76.19410983, -62.00778453, -77.15818787,\n",
              "       -64.6020546 , -70.93024113, -72.09246341, -76.83796978,\n",
              "       -77.47260208])"
            ]
          },
          "metadata": {},
          "execution_count": 47
        }
      ]
    },
    {
      "cell_type": "code",
      "source": [
        "#Return the sum of values in the third column of v_rest\n",
        "v_rest[0:2,2].sum()"
      ],
      "metadata": {
        "id": "UF_XVJaOKe7_",
        "outputId": "c9ce5765-9480-4588-b3a9-dabd0bf6d582",
        "colab": {
          "base_uri": "https://localhost:8080/"
        }
      },
      "execution_count": 48,
      "outputs": [
        {
          "output_type": "execute_result",
          "data": {
            "text/plain": [
              "-143.87441253999998"
            ]
          },
          "metadata": {},
          "execution_count": 48
        }
      ]
    },
    {
      "cell_type": "code",
      "source": [
        "#Return the second to last value of the second row of v_rest (using negative indexing)\n",
        "v_rest[1,-2]"
      ],
      "metadata": {
        "id": "KVRejBdrMBHG",
        "outputId": "5efbd5c1-c8c9-45d1-85ac-5150571a917f",
        "colab": {
          "base_uri": "https://localhost:8080/"
        }
      },
      "execution_count": 49,
      "outputs": [
        {
          "output_type": "execute_result",
          "data": {
            "text/plain": [
              "-71.42300081"
            ]
          },
          "metadata": {},
          "execution_count": 49
        }
      ]
    },
    {
      "cell_type": "code",
      "source": [
        "#Make a histogram of the values in the first row of v_rest\n",
        "plt.hist(v_rest[0])\n",
        "plt.xlabel('Resting Membrane potentials')\n",
        "plt.ylabel('Number of cells')"
      ],
      "metadata": {
        "id": "hM_wRnTpMc7c",
        "outputId": "1fc75a8c-6623-4a9f-a9ee-722a3098dcc3",
        "colab": {
          "base_uri": "https://localhost:8080/",
          "height": 296
        }
      },
      "execution_count": 50,
      "outputs": [
        {
          "output_type": "execute_result",
          "data": {
            "text/plain": [
              "Text(0, 0.5, 'Number of cells')"
            ]
          },
          "metadata": {},
          "execution_count": 50
        },
        {
          "output_type": "display_data",
          "data": {
            "text/plain": [
              "<Figure size 432x288 with 1 Axes>"
            ],
            "image/png": "[encoded data removed]"
          },
          "metadata": {
            "needs_background": "light"
          }
        }
      ]
    },
    {
      "cell_type": "code",
      "source": [
        "#Take the mean of the first row of values of v_rest and save as v_rest_mean_1. Do the same for the second row and save as v_rest_mean_2.\n",
        "v_rest_mean_1 = st.mean(v_rest[0])\n",
        "v_rest_mean_2 = st.mean(v_rest[1])\n",
        "print(v_rest_mean_1, v_rest_mean_2)"
      ],
      "metadata": {
        "id": "j8Mu7Cz_ONcX",
        "outputId": "21babb03-0c6f-496f-de43-99783ee5e96d",
        "colab": {
          "base_uri": "https://localhost:8080/"
        }
      },
      "execution_count": 51,
      "outputs": [
        {
          "output_type": "stream",
          "name": "stdout",
          "text": [
            "-71.70826754846154 -69.00697071\n"
          ]
        }
      ]
    },
    {
      "cell_type": "markdown",
      "source": [
        "The mean of v_rest row 1 (-71.708) was a larger negative number than v_rest row 2 (-69.007)."
      ],
      "metadata": {
        "id": "xwBhG93SOqCQ"
      }
    },
    {
      "cell_type": "code",
      "source": [
        "#Import scipy stats\n",
        "import scipy.stats as stats"
      ],
      "metadata": {
        "id": "BrKn0rIBPJbf"
      },
      "execution_count": 52,
      "outputs": []
    },
    {
      "cell_type": "code",
      "source": [
        "#Perform a t-test on the two rows of v_rest\n",
        "stats.ttest_ind(v_rest[0],v_rest[1])"
      ],
      "metadata": {
        "id": "nt7orm4NPQ7H",
        "outputId": "1fab7657-1f35-4963-89f1-93bfbfe9952a",
        "colab": {
          "base_uri": "https://localhost:8080/"
        }
      },
      "execution_count": 53,
      "outputs": [
        {
          "output_type": "execute_result",
          "data": {
            "text/plain": [
              "Ttest_indResult(statistic=-1.3559785667436803, pvalue=0.18772806443006004)"
            ]
          },
          "metadata": {},
          "execution_count": 53
        }
      ]
    },
    {
      "cell_type": "markdown",
      "source": [
        "The result of the t-test on v_rest was t(24) = 1.4, *p* = 0.19. Based on this p_value, there is __not__ a significant difference between the means of v_rest row 1 and row 2."
      ],
      "metadata": {
        "id": "OGRE3_hHPuFS"
      }
    }
  ]
}